{
 "cells": [
  {
   "cell_type": "code",
   "execution_count": null,
   "id": "06d8caeb",
   "metadata": {},
   "outputs": [],
   "source": [
    "%matplotlib widget\n",
    "from mmdet3d.datasets import build_dataset\n",
    "from tools.misc.browse_dataset import build_data_cfg\n",
    "from mmdet3d.models import apply_3d_transformation\n",
    "import matplotlib.pyplot as plt\n",
    "from matplotlib.ticker import MultipleLocator, FormatStrFormatter\n",
    "import copy\n",
    "import torch\n",
    "import numpy as np\n",
    "from mmdet3d.ops.voxel.voxelize import voxelization"
   ]
  },
  {
   "cell_type": "code",
   "execution_count": null,
   "id": "cf3b7145",
   "metadata": {},
   "outputs": [],
   "source": [
    "def proj_points_to_2d(points, proj_mat):\n",
    "    points = np.concatenate([points[:, :3].reshape(-1, 3), np.ones((points.shape[0], 1))], axis=-1)    \n",
    "    points_2d = points @ proj_mat.T\n",
    "    points_2d[:, 2] = np.clip(points_2d[:, 2], a_min=1e-5, a_max=1e5)\n",
    "    points_2d[:, 0] /= points_2d[:, 2]\n",
    "    points_2d[:, 1] /= points_2d[:, 2]\n",
    "    return points_2d\n",
    "\n",
    "def proj_point_to_2d(point, proj_mat):\n",
    "    point = np.concatenate([point, [1]], axis=-1)    \n",
    "    point_2d = point @ proj_mat.T\n",
    "    point_2d[2] = np.clip(point_2d[2], a_min=1e-5, a_max=1e5)\n",
    "    point_2d[0] /= point_2d[2]\n",
    "    point_2d[1] /= point_2d[2]\n",
    "    return point_2d\n",
    "\n",
    "def get_rgb(img):\n",
    "    # Convert img to RGB\n",
    "    img = img.int()\n",
    "    img = img.flip(0) # BGR image, flip to RGB\n",
    "    return img.permute(1, 2, 0) # Permute to (H, W, C)"
   ]
  },
  {
   "cell_type": "markdown",
   "id": "cb75a849",
   "metadata": {},
   "source": [
    "### Build dataset from config"
   ]
  },
  {
   "cell_type": "code",
   "execution_count": null,
   "id": "d78ef2eb",
   "metadata": {},
   "outputs": [],
   "source": [
    "config = \"configs/_base_/datasets/nus-3d-1sweep-remove_close_multi_modal_input_single_sample.py\"\n",
    "cfg = build_data_cfg(config, [\"Normalize\"], None)\n",
    "try:\n",
    "    dataset = build_dataset(cfg.data.train, default_args=dict(filter_empty_gt=False))\n",
    "except TypeError:  # seg dataset doesn't have `filter_empty_gt` key\n",
    "    dataset = build_dataset(cfg.data.train)"
   ]
  },
  {
   "cell_type": "markdown",
   "id": "47988040",
   "metadata": {},
   "source": [
    "### Read data sample"
   ]
  },
  {
   "cell_type": "code",
   "execution_count": null,
   "id": "02e9a7c2",
   "metadata": {},
   "outputs": [],
   "source": [
    "cam_idx = 0\n",
    "sample = dataset[0]\n",
    "img_metas = sample[\"img_metas\"].data\n",
    "points = sample[\"points\"].data\n",
    "imgs = sample[\"img\"].data\n",
    "img = imgs[cam_idx]\n",
    "rgb = get_rgb(img)\n",
    "proj_mat = img_metas['lidar2img'][cam_idx]"
   ]
  },
  {
   "cell_type": "markdown",
   "id": "ad6020e7",
   "metadata": {},
   "source": [
    "### Project lidar points to img"
   ]
  },
  {
   "cell_type": "code",
   "execution_count": null,
   "id": "86eaaebf",
   "metadata": {},
   "outputs": [],
   "source": [
    "proj_mat = copy.deepcopy(proj_mat).reshape(4, 4)\n",
    "if isinstance(proj_mat, torch.Tensor):\n",
    "    proj_mat = proj_mat.cpu().numpy()\n",
    "\n",
    "points_2d = proj_points_to_2d(points, proj_mat)\n",
    "\n",
    "is_point_in_image = [(0 <= p[0] <= 1600) and (0 <= p[1] <= 900) for p in points_2d] \n",
    "points_2d_in_image = points_2d[is_point_in_image, :]\n",
    "points_3d_in_image = points[is_point_in_image, :]"
   ]
  },
  {
   "cell_type": "markdown",
   "id": "409c7626",
   "metadata": {},
   "source": [
    "### Plot img and lidar points"
   ]
  },
  {
   "cell_type": "code",
   "execution_count": null,
   "id": "a17bf4b0",
   "metadata": {
    "scrolled": false
   },
   "outputs": [],
   "source": [
    "# Create subplot with rgb image, 3d points and projected lidar points\n",
    "fig, ax = plt.subplots(1, 3, figsize=(15, 5))\n",
    "ax[0].imshow(rgb)\n",
    "ax[1].plot(points_3d_in_image[:, 0], points_3d_in_image[:, 1], \".\")\n",
    "ax[1].axis(\"equal\")\n",
    "ax[2].imshow(rgb)\n",
    "ax[2].scatter(points_2d_in_image[:, 0], points_2d_in_image[:, 1], s=1, c=points_2d_in_image[:, 2], cmap=\"jet\")\n",
    "plt.show()\n",
    "\n",
    "# Create 3d plot of lidar points\n",
    "from mpl_toolkits.mplot3d import Axes3D\n",
    "fig = plt.figure(figsize=(10, 10))\n",
    "ax = fig.add_subplot(111, projection='3d')\n",
    "ax.scatter(points_3d_in_image[:, 0], points_3d_in_image[:, 1], points_3d_in_image[:, 2], s=1, c=points_3d_in_image[:, 2], cmap=\"jet\")\n",
    "ax.set_box_aspect((np.ptp(points_3d_in_image[:, 0]), np.ptp(points_3d_in_image[:, 1]), np.ptp(points_3d_in_image[:, 2])))\n",
    "plt.show()\n"
   ]
  },
  {
   "cell_type": "markdown",
   "id": "029d7d69",
   "metadata": {},
   "source": [
    "### Voxelize point cloud"
   ]
  },
  {
   "cell_type": "code",
   "execution_count": null,
   "id": "b6e2e04c",
   "metadata": {},
   "outputs": [],
   "source": [
    "voxel_size = 1.0\n",
    "r = 50\n",
    "point_cloud_range = (-r, -r, -5, r, r, 3)\n",
    "voxels, voxel_coors, num_points_per_voxel = voxelization(points, (voxel_size, voxel_size, 8), point_cloud_range)\n",
    "n_voxels_x = (point_cloud_range[3] - point_cloud_range[0])/voxel_size"
   ]
  },
  {
   "cell_type": "markdown",
   "id": "82da7e97",
   "metadata": {},
   "source": [
    "### Plot voxel grid and non-empty voxels"
   ]
  },
  {
   "cell_type": "code",
   "execution_count": null,
   "id": "f9a70f99",
   "metadata": {},
   "outputs": [],
   "source": [
    "plt.figure(figsize=(7, 7))\n",
    "plt.plot(voxel_coors[:, 2]-n_voxels_x/2, voxel_coors[:, 1]-n_voxels_x/2, \".\")\n",
    "plt.xticks(np.arange(-n_voxels_x/2, n_voxels_x/2 + 1, 1) - 0.5)\n",
    "plt.yticks(np.arange(-n_voxels_x/2, n_voxels_x/2 + 1, 1) - 0.5)\n",
    "plt.grid(True, which='major')\n",
    "plt.show()"
   ]
  },
  {
   "cell_type": "markdown",
   "id": "ce5cf3c2",
   "metadata": {},
   "source": [
    "### Lidar points visible in different camera views"
   ]
  },
  {
   "cell_type": "code",
   "execution_count": null,
   "id": "b6e454a0",
   "metadata": {},
   "outputs": [],
   "source": [
    "\n",
    "plt.figure(figsize=(7, 7))\n",
    "\n",
    "sample = dataset[0]\n",
    "points = sample[\"points\"].data\n",
    "img_metas = sample[\"img_metas\"].data\n",
    "for cam_idx in range(6):\n",
    "    proj_mat = img_metas['lidar2img'][cam_idx]\n",
    "    \n",
    "    proj_mat = copy.deepcopy(proj_mat).reshape(4, 4)\n",
    "    if isinstance(proj_mat, torch.Tensor):\n",
    "        proj_mat = proj_mat.cpu().numpy()\n",
    "        \n",
    "    points_2d = proj_points_to_2d(points, proj_mat)\n",
    "\n",
    "    is_point_in_image = [(0 <= p[0] <= 1600) and (0 <= p[1] <= 900) for p in points_2d] \n",
    "    points_3d_in_image = points[is_point_in_image, :]\n",
    "    \n",
    "    plt.plot(points_3d_in_image[:, 0], points_3d_in_image[:, 1], \".\", label=f\"Cam: {cam_idx}\")\n",
    "\n",
    "    \n",
    "plt.axis(\"equal\")\n",
    "plt.legend()\n",
    "plt.show()\n",
    "\n",
    "# Reset cam idx to front\n",
    "cam_idx = 0\n",
    "img = imgs[cam_idx]\n",
    "proj_mat = img_metas['lidar2img'][cam_idx]"
   ]
  },
  {
   "cell_type": "markdown",
   "id": "224f33f9",
   "metadata": {},
   "source": [
    "### Front cam voxels"
   ]
  },
  {
   "cell_type": "code",
   "execution_count": null,
   "id": "5c62ebd1",
   "metadata": {
    "scrolled": false
   },
   "outputs": [],
   "source": [
    "from matplotlib import patches\n",
    "\n",
    "# Projection points to 2d\n",
    "proj_mat = copy.deepcopy(proj_mat).reshape(4, 4)\n",
    "if isinstance(proj_mat, torch.Tensor):\n",
    "    proj_mat = proj_mat.cpu().numpy()\n",
    "\n",
    "points_2d = proj_points_to_2d(points, proj_mat)\n",
    "\n",
    "is_point_in_image = [(0 <= p[0] <= 1600) and (0 <= p[1] <= 900) for p in points_2d] \n",
    "points_2d_in_image = points_2d[is_point_in_image, :]\n",
    "points_3d_in_image = points[is_point_in_image, :]\n",
    "\n",
    "# Voxelize\n",
    "voxel_size = 0.5\n",
    "r = 50\n",
    "#point_cloud_range = (-r, 0, -5, r, r, 3)\n",
    "point_cloud_range = (-r, -r, -5, r, r, 3)\n",
    "voxels, voxel_coors, num_points_per_voxel = voxelization(points_3d_in_image, (voxel_size, voxel_size, 8), point_cloud_range)\n",
    "#voxels, voxel_coors, num_points_per_voxel = voxelization(points, (voxel_size, voxel_size, 8), point_cloud_range)\n",
    "n_voxels_x = (point_cloud_range[3] - point_cloud_range[0])/voxel_size\n",
    "\n",
    "# Create two subplots of voxel grid and voxel points\n",
    "fig, (ax1, ax2) = plt.subplots(1, 2, figsize=(10, 5))\n",
    "ax1.set_title(\"Voxel grid\")\n",
    "ax1.plot(voxel_coors[:, 2], voxel_coors[:, 1], \".\")\n",
    "ax1.set_xticks(np.arange(0, n_voxels_x + 1, 1) - 0.5)\n",
    "ax1.set_yticks(np.arange(0, n_voxels_x + 1, 1) - 0.5)\n",
    "ax1.grid(True, which='major')\n",
    "ax1.axis(\"equal\")\n",
    "\n",
    "ax2.set_title(\"Voxel points\")\n",
    "ax2.plot(voxels[:, :, 0], voxels[:, :, 1], \".\", c=\"b\")\n",
    "ax2.axis(\"equal\")\n",
    "# Plot square for the point cloud range\n",
    "ax2.add_patch(\n",
    "    patches.Rectangle(\n",
    "        (point_cloud_range[0], point_cloud_range[1]),\n",
    "        point_cloud_range[3]-point_cloud_range[0],\n",
    "        point_cloud_range[4]-point_cloud_range[1],\n",
    "        linewidth=1, edgecolor='r', facecolor='none'\n",
    "    )\n",
    ")\n",
    "plt.show()\n",
    "\n",
    "print(\"Voxel size: \", voxel_size)\n",
    "print(\"Point cloud range: \", point_cloud_range)\n",
    "print(\"Voxel grid shape: \", voxels.shape)\n",
    "\n",
    "# Create subplots with histograms for x, y, z in voxels\n",
    "fig, (ax1, ax2, ax3) = plt.subplots(1, 3, figsize=(15, 5))\n",
    "ax1.hist(voxels[:, :, 0].flatten(), bins=100)\n",
    "ax1.set_title(\"X\")\n",
    "ax1.set_ylim(0, 1000)\n",
    "ax2.hist(voxels[:, :, 1].flatten(), bins=100)\n",
    "ax2.set_title(\"Y\")\n",
    "ax2.set_ylim(0, 1000)\n",
    "ax3.hist(voxels[:, :, 2].flatten(), bins=100)\n",
    "ax3.set_title(\"Z\")\n",
    "ax3.set_ylim(0, 1000)\n",
    "plt.show()\n"
   ]
  },
  {
   "cell_type": "markdown",
   "id": "572e1179",
   "metadata": {},
   "source": [
    "### Voxel projection methods\n",
    "- Center of mass (avg(x), avg(y), avg(z) or median)\n",
    "- Voting strategy (choose the window where most of the points end up)\n",
    "- Projection of all points (voxel feature end up in all windows that points project to)\n",
    "- Center coordinate\n",
    "- Corners of the voxel"
   ]
  },
  {
   "cell_type": "code",
   "execution_count": null,
   "id": "6165734c",
   "metadata": {},
   "outputs": [],
   "source": [
    "def center_of_mass(voxel):\n",
    "    non_zero_points = sum([ point.any() for point in voxel ])\n",
    "\n",
    "    if non_zero_points == 0:\n",
    "        return np.array([0, 0, 0])\n",
    "\n",
    "    voxel_mean_x = voxel[:, 0].sum() / non_zero_points\n",
    "    voxel_mean_y = voxel[:, 1].sum() / non_zero_points\n",
    "    voxel_mean_z = voxel[:, 2].sum() / non_zero_points\n",
    "\n",
    "    return np.array([voxel_mean_x, voxel_mean_y, voxel_mean_z])"
   ]
  },
  {
   "cell_type": "markdown",
   "id": "e26f7a03",
   "metadata": {},
   "source": [
    "#### Creating voxel grid data structure for easier plotting of selected voxels"
   ]
  },
  {
   "cell_type": "code",
   "execution_count": null,
   "id": "6b405a1d",
   "metadata": {},
   "outputs": [],
   "source": [
    "# Create voxel grid\n",
    "n_voxels_y = n_voxels_x\n",
    "n_voxels_z = 1\n",
    "voxel_grid = np.zeros((int(n_voxels_x), int(n_voxels_y), int(n_voxels_z), voxels.shape[1], voxels.shape[2]))\n",
    "\n",
    "# Fill voxel grid with voxels\n",
    "for i in range(voxel_coors.shape[0]):\n",
    "    voxel_grid[voxel_coors[i, 2], voxel_coors[i, 1], voxel_coors[i, 0], :, :] = voxels[i, :, :]\n"
   ]
  },
  {
   "cell_type": "markdown",
   "id": "23fc133a",
   "metadata": {},
   "source": [
    "#### Clickable plot for visualizing projection of different voxels"
   ]
  },
  {
   "cell_type": "code",
   "execution_count": null,
   "id": "e4469d38",
   "metadata": {},
   "outputs": [],
   "source": [
    "# Image plane windows\n",
    "window_shape_image = (200, 200, 1)\n",
    "window_shape_lidar = (16, 16, 1)\n",
    "\n",
    "# Plot grid lines\n",
    "fig, axs = plt.subplots(1, 2, figsize=(15, 10))\n",
    "axs[0].xaxis.set_major_locator(MultipleLocator(voxel_size * window_shape_lidar[0]))\n",
    "axs[0].xaxis.set_major_formatter(FormatStrFormatter('%d'))\n",
    "axs[0].xaxis.set_minor_locator(MultipleLocator(voxel_size))\n",
    "axs[0].yaxis.set_major_locator(MultipleLocator(voxel_size * window_shape_lidar[1]))\n",
    "axs[0].yaxis.set_minor_locator(MultipleLocator(voxel_size))\n",
    "axs[0].xaxis.grid(True,'minor')\n",
    "axs[0].yaxis.grid(True,'minor')\n",
    "axs[0].xaxis.grid(True,'major',linewidth=2)\n",
    "axs[0].yaxis.grid(True,'major',linewidth=2)\n",
    "axs[0].axis(\"equal\")\n",
    "\n",
    "#axs[1].set_xticks( np.arange(0, 1600, window_shape[0]))\n",
    "#axs[1].set_yticks( np.arange(0, 900, window_shape[1]))\n",
    "axs[1].xaxis.set_major_locator(MultipleLocator(window_shape_image[0]))\n",
    "axs[1].xaxis.set_major_formatter(FormatStrFormatter('%d'))\n",
    "axs[1].yaxis.set_major_locator(MultipleLocator(window_shape_image[1]))\n",
    "axs[1].xaxis.grid(True,'major',linewidth=2)\n",
    "axs[1].yaxis.grid(True,'major',linewidth=2)\n",
    "\n",
    "# Plot voxel points stored in voxel grid\n",
    "for i in range(voxel_grid.shape[0]):\n",
    "    for j in range(voxel_grid.shape[1]):\n",
    "        for k in range(voxel_grid.shape[2]):\n",
    "            voxel = voxel_grid[i, j, k, :, :]\n",
    "            axs[0].plot(voxel[:, 0], voxel[:, 1], \".\", c=\"b\")\n",
    "\n",
    "axs[1].imshow(rgb)\n",
    "\n",
    "# Create clickable plot\n",
    "def onclick(event):\n",
    "    x = event.xdata\n",
    "    y = event.ydata\n",
    "\n",
    "    # Closest voxel coordinate\n",
    "    x = int(np.floor(x))\n",
    "    y = int(np.floor(y))\n",
    "    \n",
    "    # Get voxel\n",
    "    vx = x + int(n_voxels_x/2)\n",
    "    vy = y #+ int(n_voxels_y/2)\n",
    "    voxel = voxel_grid[vx, vy, 0, :, :]\n",
    "\n",
    "    # Get non-zero points in voxel\n",
    "    voxel = voxel[voxel.any(axis=1)]\n",
    "\n",
    "    # Plot mark in center of voxel\n",
    "    x = x + voxel_size/2\n",
    "    y = y + voxel_size/2\n",
    "    axs[0].plot(x, y, \"x\", c=\"r\")\n",
    "    \n",
    "    # Plot voxel points\n",
    "    axs[0].plot(voxel[:, 0], voxel[:, 1], \".\", c=\"r\")\n",
    "\n",
    "    # Compute center of mass\n",
    "    if voxel.any():\n",
    "        # Project voxel points to 2D\n",
    "        voxel_2d = proj_points_to_2d(voxel, proj_mat)\n",
    "        axs[1].plot(voxel_2d[:, 0], voxel_2d[:, 1], \".\", c=\"b\")\n",
    "\n",
    "        # Compute center of mass\n",
    "        voxel_com = center_of_mass(voxel)\n",
    "        axs[0].plot(voxel_com[0], voxel_com[1], \"o\", c=\"g\")\n",
    "\n",
    "        # Project center of mass to 2D\n",
    "        voxel_com_2d = proj_point_to_2d(voxel_com, proj_mat)\n",
    "        axs[1].plot(voxel_com_2d[0], voxel_com_2d[1], \"o\", c=\"g\")\n",
    "\n",
    "\n",
    "    fig.canvas.draw()\n",
    "\n",
    "cid = fig.canvas.mpl_connect('button_press_event', onclick)\n",
    "\n",
    "plt.show()\n",
    "\n"
   ]
  },
  {
   "cell_type": "code",
   "execution_count": null,
   "id": "d8681982",
   "metadata": {},
   "outputs": [],
   "source": []
  },
  {
   "cell_type": "markdown",
   "id": "53e68aed",
   "metadata": {},
   "source": [
    "#### Voxel centroids (center of mass)"
   ]
  },
  {
   "cell_type": "code",
   "execution_count": null,
   "id": "556a079e",
   "metadata": {},
   "outputs": [],
   "source": [
    "# Get number of non-zero points for each voxel\n",
    "non_zero_points_per_voxel = [ sum([ point.any() for point in voxel ]) for voxel in voxels ]\n",
    "plt.figure(figsize=(5, 5))\n",
    "plt.hist(non_zero_points_per_voxel, bins=100)\n",
    "plt.title(\"Number of non-zero points per voxel\")\n",
    "plt.show()\n",
    "\n",
    "# Compute center of mass for each voxel\n",
    "voxel_centroids = np.zeros((voxels.shape[0], 3))\n",
    "for i, voxel in enumerate(voxels):\n",
    "    voxel_mean_x = voxel[:, 0].sum() / non_zero_points_per_voxel[i]\n",
    "    voxel_mean_y = voxel[:, 1].sum() / non_zero_points_per_voxel[i]\n",
    "    voxel_mean_z = voxel[:, 2].sum() / non_zero_points_per_voxel[i]\n",
    "    voxel_centroids[i, :] = [voxel_mean_x, voxel_mean_y, voxel_mean_z]\n",
    "\n",
    "\n",
    "# Project voxel centroids to 2d\n",
    "voxel_centroids_2d = proj_points_to_2d(voxel_centroids, proj_mat)\n",
    "\n",
    "\n",
    "# Create subplot lidar points, projected lidar points, voxel centroids and projected voxel centroids\n",
    "fig, ax = plt.subplots(1, 4, figsize=(17, 5))\n",
    "ax[0].plot(points_3d_in_image[:, 0], points_3d_in_image[:, 1], \".\")\n",
    "ax[0].axis(\"equal\")\n",
    "ax[1].imshow(rgb)\n",
    "ax[1].scatter(points_2d_in_image[:, 0], points_2d_in_image[:, 1], s=1, c=points_2d_in_image[:, 2], cmap=\"jet\")\n",
    "ax[2].plot(voxel_centroids[:, 0], voxel_centroids[:, 1], \".\")\n",
    "ax[2].axis(\"equal\")\n",
    "ax[3].imshow(rgb)\n",
    "ax[3].scatter(voxel_centroids_2d[:, 0], voxel_centroids_2d[:, 1], s=1, c=voxel_centroids_2d[:, 2], cmap=\"jet\")\n",
    "plt.show()\n",
    "\n",
    "# Create 3d plot of lidar points\n",
    "from mpl_toolkits.mplot3d import Axes3D\n",
    "fig = plt.figure(figsize=(20, 10))\n",
    "ax = fig.add_subplot(121, projection='3d')\n",
    "ax.scatter(points_3d_in_image[:, 0], points_3d_in_image[:, 1], points_3d_in_image[:, 2], s=1, c=points_3d_in_image[:, 2], cmap=\"jet\")\n",
    "ax.set_box_aspect((np.ptp(points_3d_in_image[:, 0]), np.ptp(points_3d_in_image[:, 1]), np.ptp(points_3d_in_image[:, 2])))\n",
    "\n",
    "# Create 3d plot of voxel centroids\n",
    "ax = fig.add_subplot(122, projection='3d')\n",
    "ax.scatter(voxel_centroids[:, 0], voxel_centroids[:, 1], voxel_centroids[:, 2], s=1, c=voxel_centroids[:, 2], cmap=\"jet\")\n",
    "ax.set_box_aspect((np.ptp(voxel_centroids[:, 0]), np.ptp(voxel_centroids[:, 1]), np.ptp(voxel_centroids[:, 2])))\n",
    "plt.show()\n"
   ]
  }
 ],
 "metadata": {
  "kernelspec": {
   "display_name": "Python 3 (ipykernel)",
   "language": "python",
   "name": "python3"
  },
  "language_info": {
   "codemirror_mode": {
    "name": "ipython",
    "version": 3
   },
   "file_extension": ".py",
   "mimetype": "text/x-python",
   "name": "python",
   "nbconvert_exporter": "python",
   "pygments_lexer": "ipython3",
   "version": "3.7.10"
  }
 },
 "nbformat": 4,
 "nbformat_minor": 5
}
