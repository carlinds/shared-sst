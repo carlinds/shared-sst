{
 "cells": [
  {
   "cell_type": "code",
   "execution_count": null,
   "metadata": {},
   "outputs": [],
   "source": [
    "%matplotlib inline\n",
    "from mmdet3d.datasets import build_dataset\n",
    "from tools.misc.browse_dataset import build_data_cfg\n",
    "from mmdet3d.models import apply_3d_transformation\n",
    "import matplotlib.pyplot as plt\n",
    "from matplotlib.ticker import MultipleLocator, FormatStrFormatter, FixedLocator\n",
    "import copy\n",
    "import torch\n",
    "import numpy as np\n",
    "from mmcv import Config, DictAction\n",
    "from mmdet3d.models import build_model\n",
    "from mmdet3d.ops.voxel.voxelize import voxelization\n",
    "from mmdet3d.ops import DynamicScatter\n",
    "from mmdet3d.ops import (\n",
    "    flat2window_v2,\n",
    "    window2flat_v2,\n",
    "    get_inner_win_inds,\n",
    "    make_continuous_inds,\n",
    "    get_flat2win_inds_v2,\n",
    "    get_window_coors,\n",
    ")\n",
    "from mmdet3d.models.detectors.shared_fusion_net import SharedFusionNet\n",
    "import time\n",
    "import pickle\n",
    "import random\n",
    "\n",
    "device = torch.device('cuda:0' if torch.cuda.is_available() else 'cpu')\n",
    "print(device)\n",
    "\n",
    "with open(\"/shared-sst/forward_train_input_batch_size_2.pkl\", \"rb\") as f:\n",
    "    forward_train_input = pickle.load(f)\n",
    "\n",
    "points, img, img_metas, gt_bboxes_3d, gt_labels_3d = forward_train_input.values()\n",
    "img = img.to(device).float()\n",
    "points = [p.float() for p in points]\n",
    "\n",
    "cfg = Config.fromfile(\"configs/shared_sst/shared_fusion_lidar_detection_debug_config.py\")\n",
    "model = build_model(cfg.model, train_cfg=cfg.get(\"train_cfg\"), test_cfg=cfg.get(\"test_cfg\"))\n",
    "#model.init_weights()\n",
    "model.cuda()"
   ]
  },
  {
   "cell_type": "code",
   "execution_count": null,
   "metadata": {},
   "outputs": [],
   "source": [
    "def get_patch_coors(unflattened_patches, patch_size):\n",
    "    device = unflattened_patches.device\n",
    "    batch_size, height, width = unflattened_patches.shape[0], unflattened_patches.shape[1], unflattened_patches.shape[2]\n",
    "    patch_coors = torch.zeros((height * width * batch_size, 4), device=device)\n",
    "    \n",
    "    # Width indices\n",
    "    patch_coors[:, 3] = torch.arange(width).repeat(height * batch_size)\n",
    "\n",
    "    # Height and batch indices\n",
    "    height_indices = np.repeat(np.arange(height), width)\n",
    "    for batch_index in range(batch_size):\n",
    "        patch_coors[batch_index * height * width : (batch_index + 1) * height * width, 0] = batch_index\n",
    "        patch_coors[batch_index * height * width : (batch_index + 1) * height * width, 2] = torch.from_numpy(height_indices)\n",
    "\n",
    "    # Scale to image size\n",
    "    patch_coors[:, 2] = patch_coors[:, 2] * patch_size + patch_size // 2\n",
    "    patch_coors[:, 3] = patch_coors[:, 3] * patch_size + patch_size // 2\n",
    "    return patch_coors"
   ]
  },
  {
   "cell_type": "code",
   "execution_count": null,
   "metadata": {},
   "outputs": [],
   "source": [
    "# Voxelize point cloud\n",
    "voxels, coors = model.voxelize(points)  # [Batch, Z, Y, X]\n",
    "batch_size = coors[-1, 0].item() + 1\n",
    "voxel_features, voxel_feature_coors = model.voxel_encoder(voxels, coors)\n",
    "voxel_mean, _ = model.voxel_encoder.cluster_scatter(voxels, coors)\n",
    "\n",
    "# Patchify wide image\n",
    "img_wide = torch.cat([img[:, i] for i in model.middle_encoder.camera_order], dim=3)\n",
    "patches = model.patch_embedder(img_wide)\n",
    "\n",
    "# Convert patches to same format as voxels\n",
    "unflattened_patches = patches[0].unflatten(1, patches[1])\n",
    "patch_features = patches[0].flatten(0, 1)\n",
    "patch_coors = get_patch_coors(unflattened_patches, model.patch_embedder.projection.kernel_size[0])\n",
    "\n",
    "\n",
    "sst_info = model.middle_encoder(\n",
    "    voxel_features,\n",
    "    voxel_feature_coors,\n",
    "    voxel_mean,\n",
    "    patch_features,\n",
    "    patch_coors,\n",
    "    img_metas,\n",
    "    batch_size,\n",
    ")\n",
    "\n",
    "[batch_canvas] = model.backbone(sst_info)"
   ]
  },
  {
   "cell_type": "markdown",
   "metadata": {},
   "source": [
    "### Plot input"
   ]
  },
  {
   "cell_type": "code",
   "execution_count": null,
   "metadata": {},
   "outputs": [],
   "source": [
    "model.middle_encoder.camera_order"
   ]
  },
  {
   "cell_type": "code",
   "execution_count": null,
   "metadata": {},
   "outputs": [],
   "source": [
    "# Plot the 6 views\n",
    "for view_idx in range(6):\n",
    "    plt.figure(figsize=(20, 20))\n",
    "    im = plt.imread(img_metas[0][\"filename\"][view_idx])\n",
    "    plt.imshow(im)\n",
    "    plt.savefig(f\"view{view_idx+1}.png\", bbox_inches='tight')\n",
    "    plt.show()"
   ]
  },
  {
   "cell_type": "code",
   "execution_count": null,
   "metadata": {},
   "outputs": [],
   "source": [
    "# Plot points\n",
    "plt.figure(figsize=(20, 20))\n",
    "plt.scatter(points[0][:, 0].cpu(), points[0][:, 1].cpu(), s=0.1)\n",
    "plt.axis(\"equal\")\n",
    "plt.title(\"Birds eye view of 2 aggregated point cloud sweeps\")\n",
    "plt.savefig(\"points.png\")"
   ]
  },
  {
   "cell_type": "code",
   "execution_count": null,
   "metadata": {},
   "outputs": [],
   "source": [
    "plt.figure(figsize=(100, 10))\n",
    "views = [plt.imread(img_metas[0][\"filename\"][i]) for i in model.middle_encoder.camera_order]\n",
    "im = np.concatenate(views, axis=1)\n",
    "plt.imshow(im)\n",
    "plt.savefig(\"wide_image.png\", bbox_inches='tight')\n"
   ]
  },
  {
   "cell_type": "code",
   "execution_count": null,
   "metadata": {},
   "outputs": [],
   "source": [
    "# Plot points and grid lines, forming a 200 x 200 grid\n",
    "plt.figure(figsize=(20, 20))\n",
    "plt.scatter(points[0][:, 0].cpu(), points[0][:, 1].cpu(), s=0.1)\n",
    "plt.axis(\"equal\")\n",
    "plt.title(\"Birds eye view of 2 aggregated point cloud sweeps\")\n",
    "plt.xticks(np.arange(-200/2, 200/2 + 1, 1) - 0.5)\n",
    "plt.yticks(np.arange(-200/2, 200/2 + 1, 1) - 0.5)\n",
    "plt.grid(True, which='major')\n",
    "#plt.grid(which='major', axis='both', linestyle='-', color='k', linewidth=1)\n",
    "plt.savefig(\"points_grid.png\")\n"
   ]
  },
  {
   "cell_type": "code",
   "execution_count": null,
   "metadata": {},
   "outputs": [],
   "source": [
    "fig, ax = plt.subplots(1, 1, figsize=(20, 20))\n",
    "ax.scatter(points[0][:, 0].cpu(), points[0][:, 1].cpu(), s=0.1)\n",
    "ax.set_title(\"Birds eye view of 2 aggregated point cloud sweeps\")\n",
    "ax.xaxis.set_major_locator(MultipleLocator(0.5 * 16))\n",
    "ax.xaxis.set_major_formatter(FormatStrFormatter('%d'))\n",
    "ax.xaxis.set_minor_locator(MultipleLocator(0.5))\n",
    "ax.yaxis.set_major_locator(MultipleLocator(0.5 * 16))\n",
    "ax.yaxis.set_minor_locator(MultipleLocator(0.5))\n",
    "ax.xaxis.grid(True,'minor')\n",
    "ax.yaxis.grid(True,'minor')\n",
    "ax.xaxis.grid(True,'major',linewidth=2, color='r')\n",
    "ax.yaxis.grid(True,'major',linewidth=2, color='r')\n",
    "ax.axis(\"equal\")\n",
    "plt.savefig(\"points_grid_windows.png\")"
   ]
  },
  {
   "cell_type": "code",
   "execution_count": null,
   "metadata": {},
   "outputs": [],
   "source": [
    "voxel_mean_2d = model.middle_encoder.get_voxel_mean_2d_coords(voxel_feature_coors, voxel_mean, img_metas, 2)"
   ]
  },
  {
   "cell_type": "code",
   "execution_count": null,
   "metadata": {},
   "outputs": [],
   "source": [
    "plt.figure(figsize=(100, 10))\n",
    "views = [plt.imread(img_metas[0][\"filename\"][i]) for i in model.middle_encoder.camera_order]\n",
    "im = np.concatenate(views, axis=1)\n",
    "plt.imshow(im)\n",
    "plt.scatter(voxel_mean_2d[:, 3].cpu(), voxel_mean_2d[:, 2].cpu(), s=1, color=\"red\")\n",
    "plt.savefig(\"wide_image_with_points.png\", bbox_inches='tight')"
   ]
  },
  {
   "cell_type": "code",
   "execution_count": null,
   "metadata": {},
   "outputs": [],
   "source": [
    "# Create list of colors for each unique value in batch_win_inds_shift0\n",
    "unique_batch_win_inds = torch.unique(sst_info[\"batch_win_inds_shift0\"])\n",
    "color_map = plt.get_cmap(\"gist_rainbow\")\n",
    "plot_colors = [\n",
    "    color_map(i / len(unique_batch_win_inds))\n",
    "    for i in range(len(unique_batch_win_inds))\n",
    "]\n",
    "random.shuffle(plot_colors)\n",
    "\n",
    "# Plot voxel coors painted by batch win ind\n",
    "fig, axs = plt.subplots(batch_size, 1, figsize=(60, batch_size * 10))\n",
    "voxel_mean_2d = voxel_mean_2d.cpu().int()\n",
    "\n",
    "for batch_idx in range(batch_size):\n",
    "    views = [plt.imread(img_metas[batch_idx][\"filename\"][i]) for i in model.middle_encoder.camera_order]\n",
    "    im = np.concatenate(views, axis=1)\n",
    "    axs[batch_idx].imshow(im)\n",
    "\n",
    "\n",
    "for i in range(voxel_mean_2d.shape[0]):\n",
    "    batch_index = voxel_mean_2d[i, 0]\n",
    "    batch_win_ind = sst_info[\"batch_win_inds_shift0\"][i]\n",
    "    color_index = torch.where(unique_batch_win_inds == batch_win_ind)[0]\n",
    "    axs[batch_index].plot(\n",
    "        voxel_mean_2d[i, 3],\n",
    "        voxel_mean_2d[i, 2],\n",
    "        color=plot_colors[color_index],\n",
    "        markersize=2,\n",
    "    )\n",
    "\n",
    "for i in range(batch_size):\n",
    "    axs[i].set_title(f\"Batch {i}\")\n",
    "    axs[i].set_xlabel(\"x\")\n",
    "    axs[i].set_ylabel(\"y\")\n",
    "    axs[i].xaxis.set_major_locator(MultipleLocator(window_shape[0]))\n",
    "    #axs[i].xaxis.set_major_locator(FixedLocator([int(window_shape[0]//2 + i * window_shape[0]) for i in range(sparse_shape[0]//window_shape[0])]))\n",
    "    axs[i].xaxis.set_major_formatter(FormatStrFormatter(\"%d\"))\n",
    "    axs[i].yaxis.set_major_locator(MultipleLocator(window_shape[1]))\n",
    "    #axs[i].yaxis.set_major_locator(FixedLocator([int(window_shape[1]//2 + i * window_shape[1]) for i in range(sparse_shape[1]//window_shape[1])]))\n",
    "    axs[i].xaxis.grid(True, \"major\", linewidth=2)\n",
    "    axs[i].yaxis.grid(True, \"major\", linewidth=2)"
   ]
  },
  {
   "cell_type": "code",
   "execution_count": null,
   "metadata": {},
   "outputs": [],
   "source": []
  }
 ],
 "metadata": {
  "kernelspec": {
   "display_name": "Python 3 (ipykernel)",
   "language": "python",
   "name": "python3"
  },
  "orig_nbformat": 4,
  "vscode": {
   "interpreter": {
    "hash": "d4d1e4263499bec80672ea0156c357c1ee493ec2b1c70f0acce89fc37c4a6abe"
   }
  }
 },
 "nbformat": 4,
 "nbformat_minor": 2
}
